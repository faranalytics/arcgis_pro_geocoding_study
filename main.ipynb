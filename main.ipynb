{
 "cells": [
  {
   "cell_type": "code",
   "execution_count": 1,
   "metadata": {},
   "outputs": [],
   "source": [
    "import pandas as pd\n",
    "import numpy as np\n",
    "import arcpy\n",
    "from arcgis.features import GeoAccessor, GeoSeriesAccessor\n",
    "from datetime import datetime, date\n",
    "from sklearn.metrics.pairwise import haversine_distances\n",
    "from math import radians\n",
    "\n",
    "pd.set_option('display.max_columns', None)\n",
    "\n",
    "TODAY = date.today().strftime(\"%Y-%m-%d\")\n",
    "NOW = datetime.now().strftime(\"%Y-%m-%dT%H:%M:%S\")\n",
    "\n",
    "arcpy.env.workspace =  r\".\\MyProject\\MyProject.gdb\"\n",
    "\n",
    "from config import ADDRESS_LOCATOR_PATH\n",
    "\n",
    "IN_TABLE_PATH = r\".\\materials\\EDGE_GEOCODE_POSTSECSCH_2223\\EDGE_GEOCODE_POSTSECSCH_2223.xlsx\\IPEDS22_GEOLOAD_230217\"\n",
    "OUT_FEATURE_CLASS_PATH = r\".\\MyProject\\MyProject.gdb\\geocode_IPEDS22_GEOLOAD_230217\"\n",
    "IN_ADDRESS_FIELDS_MAP = r\"'Address or Place' Street VISIBLE NONE;Address2 <None> VISIBLE NONE;Address3 <None> VISIBLE NONE;Neighborhood <None> VISIBLE NONE;City City VISIBLE NONE;County <None> VISIBLE NONE;State State VISIBLE NONE;ZIP ZIP VISIBLE NONE;ZIP4 <None> VISIBLE NONE;Country <None> VISIBLE NONE\""
   ]
  },
  {
   "cell_type": "code",
   "execution_count": null,
   "metadata": {},
   "outputs": [],
   "source": [
    "df_source = pd.read_excel(r\".\\materials\\EDGE_GEOCODE_POSTSECSCH_2223\\EDGE_GEOCODE_POSTSECSCH_2223.xlsx\", sheet_name=\"IPEDS22_GEOLOAD_230217\")"
   ]
  },
  {
   "cell_type": "code",
   "execution_count": null,
   "metadata": {},
   "outputs": [],
   "source": [
    "df = df_source.copy()\n",
    "\n",
    "print(df.shape)\n",
    "\n",
    "df.loc[df['NAME'] == 'University of Michigan-Ann Arbor']"
   ]
  },
  {
   "cell_type": "code",
   "execution_count": null,
   "metadata": {},
   "outputs": [],
   "source": [
    "# https://pro.arcgis.com/en/pro-app/latest/tool-reference/data-management/delete.htm\n",
    "arcpy.management.Delete(OUT_FEATURE_CLASS_PATH)\n",
    "\n",
    "# https://pro.arcgis.com/en/pro-app/latest/tool-reference/geocoding/geocode-addresses.htm\n",
    "arcpy.geocoding.GeocodeAddresses(IN_TABLE_PATH, ADDRESS_LOCATOR_PATH, IN_ADDRESS_FIELDS_MAP, OUT_FEATURE_CLASS_PATH)\n",
    "\n",
    "# https://developers.arcgis.com/python/api-reference/arcgis.features.toc.html#arcgis.features.GeoAccessor.from_featureclass\n",
    "df = pd.DataFrame.spatial.from_featureclass(OUT_FEATURE_CLASS_PATH)\n",
    "\n",
    "df = df.loc[df['Score'] != 0]\n",
    "\n",
    "df.to_pickle(\"./results/geocode_IPEDS22_GEOLOAD_230217.pkl\")\n",
    "\n",
    "df_geocode = df.copy()"
   ]
  },
  {
   "cell_type": "code",
   "execution_count": null,
   "metadata": {},
   "outputs": [],
   "source": [
    "df = df_geocode.copy()\n",
    "\n",
    "df[[\"Y_radians\", \"X_radians\", \"USER_LAT_radians\", \"USER_LON_radians\"]] = df[[\"Y\", \"X\", \"USER_LAT\", \"USER_LON\"]].applymap(radians)\n",
    "\n",
    "df[\"haversine_dist\"] = df[[\"Y_radians\", \"X_radians\", \"USER_LAT_radians\", \"USER_LON_radians\"]].apply(\n",
    "    lambda x: (haversine_distances([x[0:2].tolist(), x[2:4].tolist()]) * 6371000)[0][1], axis=1\n",
    ")\n",
    "\n",
    "df[\"haversine_dist\"].describe().round(2)"
   ]
  },
  {
   "cell_type": "code",
   "execution_count": null,
   "metadata": {},
   "outputs": [],
   "source": [
    "df.loc[df['haversine_dist'] == df['haversine_dist'].max()]"
   ]
  },
  {
   "cell_type": "code",
   "execution_count": null,
   "metadata": {},
   "outputs": [],
   "source": [
    "df = df_source.copy()\n",
    "\n",
    "df.loc[df['NAME'] == 'Erie 2 Chautauqua Cattaraugus BOCES-Practical Nursing Program']"
   ]
  }
 ],
 "metadata": {
  "kernelspec": {
   "display_name": "Python 3",
   "language": "python",
   "name": "python3"
  },
  "language_info": {
   "codemirror_mode": {
    "name": "ipython",
    "version": 3
   },
   "file_extension": ".py",
   "mimetype": "text/x-python",
   "name": "python",
   "nbconvert_exporter": "python",
   "pygments_lexer": "ipython3",
   "version": "3.9.18"
  }
 },
 "nbformat": 4,
 "nbformat_minor": 2
}
