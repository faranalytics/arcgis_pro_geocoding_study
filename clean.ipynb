{
 "cells": [
  {
   "cell_type": "code",
   "execution_count": 1,
   "metadata": {},
   "outputs": [],
   "source": [
    "import arcpy\n",
    "\n",
    "arcpy.env.workspace =  r\".\\MyProject\\MyProject.gdb\"\n",
    "\n",
    "aprx  = arcpy.mp.ArcGISProject(r\".\\MyProject\\MyProject.aprx\")\n",
    "\n",
    "m = aprx.listMaps(\"Map\")[0]"
   ]
  },
  {
   "cell_type": "code",
   "execution_count": null,
   "metadata": {},
   "outputs": [],
   "source": [
    "layers = m.listLayers()[0:-2]\n",
    "\n",
    "if layers:\n",
    "    for layer in layers:\n",
    "        print(layer)\n",
    "        m.removeLayer(layer)\n",
    "    \n",
    "feature_classes = arcpy.ListFeatureClasses()\n",
    "\n",
    "if feature_classes:\n",
    "    for feature_class in feature_classes:\n",
    "        print(feature_class)\n",
    "        arcpy.management.Delete(feature_class)\n",
    "\n",
    "\n",
    "tables = arcpy.ListTables()\n",
    "\n",
    "if tables:\n",
    "    for table in tables:\n",
    "        print(table)\n",
    "        arcpy.management.Delete(table)\n",
    "\n",
    "aprx.save()"
   ]
  },
  {
   "cell_type": "code",
   "execution_count": null,
   "metadata": {},
   "outputs": [],
   "source": []
  }
 ],
 "metadata": {
  "kernelspec": {
   "display_name": "Python 3",
   "language": "python",
   "name": "python3"
  },
  "language_info": {
   "codemirror_mode": {
    "name": "ipython",
    "version": 3
   },
   "file_extension": ".py",
   "mimetype": "text/x-python",
   "name": "python",
   "nbconvert_exporter": "python",
   "pygments_lexer": "ipython3",
   "version": "3.9.18"
  }
 },
 "nbformat": 4,
 "nbformat_minor": 2
}
